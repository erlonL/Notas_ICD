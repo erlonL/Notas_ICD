{
 "cells": [
  {
   "cell_type": "code",
   "execution_count": 1,
   "id": "11e34b2d",
   "metadata": {},
   "outputs": [
    {
     "data": {
      "text/plain": [
       "32"
      ]
     },
     "execution_count": 1,
     "metadata": {},
     "output_type": "execute_result"
    }
   ],
   "source": [
    "def double(x):\n",
    "    return x * 2\n",
    "double(16)"
   ]
  },
  {
   "cell_type": "code",
   "execution_count": null,
   "id": "bd27e26e",
   "metadata": {},
   "outputs": [],
   "source": []
  },
  {
   "cell_type": "code",
   "execution_count": 3,
   "id": "43888370",
   "metadata": {},
   "outputs": [
    {
     "data": {
      "text/plain": [
       "32"
      ]
     },
     "execution_count": 3,
     "metadata": {},
     "output_type": "execute_result"
    }
   ],
   "source": []
  },
  {
   "cell_type": "code",
   "execution_count": 40,
   "id": "003becd2",
   "metadata": {},
   "outputs": [
    {
     "data": {
      "text/plain": [
       "30"
      ]
     },
     "execution_count": 40,
     "metadata": {},
     "output_type": "execute_result"
    }
   ],
   "source": [
    "def change_number(s,func):\n",
    "    return(func(s))\n",
    "\n",
    "change_number(15,lambda x: x * 2)"
   ]
  },
  {
   "cell_type": "code",
   "execution_count": 35,
   "id": "ee69c4f4",
   "metadata": {},
   "outputs": [],
   "source": [
    "def final_grade(grades,func):\n",
    "    new_grades = func(grades)\n",
    "    s = sum(new_grades)\n",
    "    n = len(new_grades)\n",
    "    return s/n"
   ]
  },
  {
   "cell_type": "code",
   "execution_count": 36,
   "id": "b51097d8",
   "metadata": {},
   "outputs": [],
   "source": [
    "def mv_nota(notas):\n",
    "    menor = notas[0]\n",
    "    for i in notas:\n",
    "        if i < menor:\n",
    "            menor = i\n",
    "    notas.remove(menor)\n",
    "    return notas"
   ]
  },
  {
   "cell_type": "code",
   "execution_count": 37,
   "id": "4c66f9bf",
   "metadata": {},
   "outputs": [
    {
     "name": "stdout",
     "output_type": "stream",
     "text": [
      "[10, 10, 2]\n"
     ]
    },
    {
     "data": {
      "text/plain": [
       "7.333333333333333"
      ]
     },
     "execution_count": 37,
     "metadata": {},
     "output_type": "execute_result"
    }
   ],
   "source": [
    "g = [10,10,1,2]\n",
    "final_grade(g,mv_nota)"
   ]
  },
  {
   "cell_type": "code",
   "execution_count": 41,
   "id": "750d0408",
   "metadata": {},
   "outputs": [
    {
     "name": "stdout",
     "output_type": "stream",
     "text": [
      "6\n"
     ]
    }
   ],
   "source": [
    "def teste(valor=5):\n",
    "    print(valor)\n",
    "teste(6)"
   ]
  },
  {
   "cell_type": "code",
   "execution_count": 42,
   "id": "4458044e",
   "metadata": {},
   "outputs": [
    {
     "name": "stdout",
     "output_type": "stream",
     "text": [
      "5\n"
     ]
    }
   ],
   "source": [
    "teste()"
   ]
  },
  {
   "cell_type": "code",
   "execution_count": 49,
   "id": "5b6e2d8e",
   "metadata": {},
   "outputs": [
    {
     "data": {
      "text/plain": [
       "10.333333333333334"
      ]
     },
     "execution_count": 49,
     "metadata": {},
     "output_type": "execute_result"
    }
   ],
   "source": [
    "def teste2(*args):\n",
    "    return sum\n",
    "teste2"
   ]
  },
  {
   "cell_type": "code",
   "execution_count": null,
   "id": "33939e54",
   "metadata": {},
   "outputs": [],
   "source": []
  }
 ],
 "metadata": {
  "kernelspec": {
   "display_name": "Python 3 (ipykernel)",
   "language": "python",
   "name": "python3"
  },
  "language_info": {
   "codemirror_mode": {
    "name": "ipython",
    "version": 3
   },
   "file_extension": ".py",
   "mimetype": "text/x-python",
   "name": "python",
   "nbconvert_exporter": "python",
   "pygments_lexer": "ipython3",
   "version": "3.9.7"
  }
 },
 "nbformat": 4,
 "nbformat_minor": 5
}
