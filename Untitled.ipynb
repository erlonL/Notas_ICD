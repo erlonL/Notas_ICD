{
 "cells": [
  {
   "cell_type": "code",
   "execution_count": 12,
   "id": "67329b70",
   "metadata": {},
   "outputs": [
    {
     "name": "stdout",
     "output_type": "stream",
     "text": [
      "0.8444218515250481\n",
      "0.13436424411240122\n",
      "0.9560342718892494\n",
      "0.23796462709189137\n",
      "0.23604808973743452\n",
      "0.6229016948897019\n",
      "0.793340083761663\n",
      "0.32383276483316237\n",
      "0.2267058593810488\n",
      "0.46300735781502145\n",
      "0.5714025946899135\n",
      "0.4523795535098186\n"
     ]
    }
   ],
   "source": [
    "import random\n",
    "\n",
    "for i in range(12):\n",
    "    random.seed(i)\n",
    "    print(random.random())"
   ]
  },
  {
   "cell_type": "code",
   "execution_count": 14,
   "id": "46bf85c5",
   "metadata": {},
   "outputs": [
    {
     "name": "stdout",
     "output_type": "stream",
     "text": [
      "0.8444218515250481\n",
      "0.13436424411240122\n",
      "0.9560342718892494\n",
      "0.23796462709189137\n",
      "0.23604808973743452\n",
      "0.6229016948897019\n",
      "0.793340083761663\n",
      "0.32383276483316237\n",
      "0.2267058593810488\n",
      "0.46300735781502145\n",
      "0.5714025946899135\n",
      "0.4523795535098186\n"
     ]
    }
   ],
   "source": [
    "import random\n",
    "\n",
    "for i in range(12):\n",
    "    random.seed(i) #vai gerar números aleatorios organizados pela seed igualmente em qualquer máquina\n",
    "    print(random.random())"
   ]
  },
  {
   "cell_type": "code",
   "execution_count": 17,
   "id": "1101a528",
   "metadata": {},
   "outputs": [
    {
     "name": "stdout",
     "output_type": "stream",
     "text": [
      "[1, 2, 4, 3]\n",
      "[1, 2, 4, 3]\n",
      "[1, 2, 4, 3]\n",
      "[1, 2, 4, 3]\n",
      "[1, 2, 4, 3]\n",
      "[1, 2, 4, 3]\n",
      "[1, 2, 4, 3]\n",
      "[1, 2, 4, 3]\n",
      "[1, 2, 4, 3]\n",
      "[1, 2, 4, 3]\n"
     ]
    }
   ],
   "source": [
    "for i in range(10):\n",
    "    x = [1, 2, 3, 4]\n",
    "    random.seed(5) #vai manter o random trabalhando em cima do mesmo gerador\n",
    "    random.shuffle(x) #vai acabar gerando o mesmo embaralhamento todas as vezes por conta da seed\n",
    "    print(x)"
   ]
  },
  {
   "cell_type": "code",
   "execution_count": 26,
   "id": "db596b99",
   "metadata": {},
   "outputs": [
    {
     "name": "stdout",
     "output_type": "stream",
     "text": [
      "[1, 2, 4, 3]\n",
      "[1, 2, 3, 4]\n",
      "[1, 2, 4, 3]\n",
      "[1, 2, 3, 4]\n",
      "[1, 2, 4, 3]\n",
      "[1, 2, 3, 4]\n",
      "[1, 2, 4, 3]\n",
      "[1, 2, 3, 4]\n",
      "[1, 2, 4, 3]\n",
      "[1, 2, 3, 4]\n"
     ]
    }
   ],
   "source": [
    "x = [1, 2, 3, 4]\n",
    "\n",
    "for i in range(10):\n",
    "    random.seed(5) #vai manter o random trabalhando em cima do mesmo gerador\n",
    "    random.shuffle(x) #vai acabar gerando embaralhamentos diferentes uma vez que a lista \n",
    "                      #sempre será alterada\n",
    "    print(x)"
   ]
  }
 ],
 "metadata": {
  "kernelspec": {
   "display_name": "Python 3 (ipykernel)",
   "language": "python",
   "name": "python3"
  },
  "language_info": {
   "codemirror_mode": {
    "name": "ipython",
    "version": 3
   },
   "file_extension": ".py",
   "mimetype": "text/x-python",
   "name": "python",
   "nbconvert_exporter": "python",
   "pygments_lexer": "ipython3",
   "version": "3.9.7"
  }
 },
 "nbformat": 4,
 "nbformat_minor": 5
}
