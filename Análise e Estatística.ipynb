{
 "cells": [
  {
   "cell_type": "markdown",
   "id": "7ad2c5a7",
   "metadata": {},
   "source": [
    "# Análise Exploratória dos Dados"
   ]
  },
  {
   "cell_type": "markdown",
   "id": "6defef5f",
   "metadata": {},
   "source": [
    "Se trata do primeiro passo na análise de dados, conhecer o dataset é importante até mesmo para ter ideia do que está trabalhando e ter novas ideias."
   ]
  },
  {
   "cell_type": "markdown",
   "id": "ca355fdf",
   "metadata": {},
   "source": [
    "Com a análise exploratória:\n",
    "- Geramos perguntas\n",
    "- Procuramos respostas\n",
    "- Refinamos as hipóteses"
   ]
  },
  {
   "cell_type": "markdown",
   "id": "42ec3188",
   "metadata": {},
   "source": [
    "Para iniciar a exploração\n",
    "- Qual o centro dos dados?\n",
    "- Como eles estão distribuídos?"
   ]
  },
  {
   "cell_type": "markdown",
   "id": "b39f326e",
   "metadata": {},
   "source": [
    "## Estatística"
   ]
  },
  {
   "cell_type": "markdown",
   "id": "99e1063c",
   "metadata": {},
   "source": [
    "### Estatística descritiva"
   ]
  },
  {
   "cell_type": "markdown",
   "id": "a93540db",
   "metadata": {},
   "source": [
    "Forma de resumir os dados para uma proposta definida.\n",
    "- Calcular medidas de tendência central\n",
    "- Medidas de dispersão"
   ]
  },
  {
   "cell_type": "markdown",
   "id": "2c74a3d5",
   "metadata": {},
   "source": [
    "### Medidas de centralidade\n",
    "Maioria de um conjunto de dados\n",
    "- Média\n",
    "- Mediana\n",
    "- Moda"
   ]
  },
  {
   "cell_type": "markdown",
   "id": "270c48c0",
   "metadata": {},
   "source": [
    "- Se tivermos um exemplo de salários em uma empresa, a *média* pode resultar em informações erradas.\n",
    "- A *mediana* seria uma melhor forma para descobrir o salário a se esperar em uma empresa.\n"
   ]
  },
  {
   "cell_type": "markdown",
   "id": "d942c34c",
   "metadata": {},
   "source": [
    "\n",
    "- Para calcular distorções em bases de dados, uma boa ideia é calcular a média e a mediana e perceber a diferença. Se for grande, então há distorções."
   ]
  },
  {
   "cell_type": "markdown",
   "id": "54185294",
   "metadata": {},
   "source": [
    "##### Moda"
   ]
  },
  {
   "cell_type": "markdown",
   "id": "9d3ca64b",
   "metadata": {},
   "source": [
    "Se trata do valor que mais aparece no conjunto de dados.\n",
    "- Cores, gênero, modelos de carro"
   ]
  },
  {
   "cell_type": "markdown",
   "id": "2b470c26",
   "metadata": {},
   "source": [
    "### Medidas de dispersão"
   ]
  },
  {
   "cell_type": "markdown",
   "id": "1b923786",
   "metadata": {},
   "source": [
    "Calcula a variação em conjuntos de dados\n",
    "- Variância\n",
    "    - Média das distâncias quadráticas de cada ponto até a média\n",
    "    - Soma das diferenças dos valores para as médias\n",
    "    \n",
    "    (Média da soma das diferenças entre valores e média ao quadrado)\n",
    "    "
   ]
  },
  {
   "cell_type": "markdown",
   "id": "86f819a9",
   "metadata": {},
   "source": [
    "No numpy, a função np.var([]) que faz esse cálculo de variância"
   ]
  },
  {
   "cell_type": "markdown",
   "id": "4f165b54",
   "metadata": {},
   "source": [
    "- Desvio padrão\n",
    "    - Quando tiramos a raiz quadrada da variância, temos a resposta com a mesma unidade dos dados, a medida resultante é chamada de desvio padrão\n"
   ]
  },
  {
   "cell_type": "markdown",
   "id": "82f80d56",
   "metadata": {},
   "source": [
    "np.std([])"
   ]
  },
  {
   "cell_type": "markdown",
   "id": "b0bf8e63",
   "metadata": {},
   "source": [
    "**Utilizando medidas de centralidade e dispersão juntas garantem uma visão mais confiável dos dados.**"
   ]
  },
  {
   "cell_type": "code",
   "execution_count": null,
   "id": "e68b9184",
   "metadata": {},
   "outputs": [],
   "source": []
  },
  {
   "cell_type": "markdown",
   "id": "7c8fc7ab",
   "metadata": {},
   "source": [
    "# Correlação"
   ]
  },
  {
   "cell_type": "markdown",
   "id": "5abe3b42",
   "metadata": {},
   "source": [
    "- Dadas duas variáveis X e Y, são correlacionadas quando X tem poder de previsão sobre Y.\n",
    "- Os valores do coeficiente de correlação variam entre -1 e 1\n",
    "    - Correlação positiva:\n",
    "        Quanto maior X, maior Y\n",
    "    - Correlação negativa:\n",
    "        Quanto maior X, menor Y\n",
    "    - Correlação insignificante:\n",
    "        X não tem relação direta com Y"
   ]
  },
  {
   "cell_type": "markdown",
   "id": "3039ed21",
   "metadata": {},
   "source": [
    "pd.coff()"
   ]
  },
  {
   "cell_type": "markdown",
   "id": "82205e36",
   "metadata": {},
   "source": [
    "- Interpretação\n",
    "    - 0 - 0.2    =  Muito fraca\n",
    "    - 0.2 - 0.4  =  Fraca\n",
    "    - 0.4 - 0.6  =  Moderada\n",
    "    - 0.6 - 0.8  =  Forte\n",
    "    - 0.8 - 1    =  Muito forte"
   ]
  },
  {
   "cell_type": "markdown",
   "id": "a2f6b8c2",
   "metadata": {},
   "source": [
    "~variable.plot.scatter(x=\"column name\", y=\"column name\") gera o gráfico de dispersão entre as variáveis x e y"
   ]
  },
  {
   "cell_type": "markdown",
   "id": "243953ec",
   "metadata": {},
   "source": [
    "- Se X e Y são fortemente correlacionadas, então:\n",
    "    - X causa Y\n",
    "    - Y causa X\n",
    "    - X causa Y e Y causa X\n",
    "    - Ou seja, várias coisas mas não representa causalidade necessariamente"
   ]
  },
  {
   "cell_type": "code",
   "execution_count": null,
   "id": "3e2e8ed4",
   "metadata": {},
   "outputs": [],
   "source": []
  }
 ],
 "metadata": {
  "kernelspec": {
   "display_name": "Python 3 (ipykernel)",
   "language": "python",
   "name": "python3"
  },
  "language_info": {
   "codemirror_mode": {
    "name": "ipython",
    "version": 3
   },
   "file_extension": ".py",
   "mimetype": "text/x-python",
   "name": "python",
   "nbconvert_exporter": "python",
   "pygments_lexer": "ipython3",
   "version": "3.9.7"
  }
 },
 "nbformat": 4,
 "nbformat_minor": 5
}
